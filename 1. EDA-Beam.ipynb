{
 "cells": [
  {
   "cell_type": "markdown",
   "id": "eb48761e-c2b3-46f9-ab26-108a6c690b37",
   "metadata": {},
   "source": [
    "# 1. Amazon Book Reviews EDA for Recommendation System"
   ]
  },
  {
   "cell_type": "markdown",
   "id": "dca32405-8718-4aa6-932d-be99398b6ed3",
   "metadata": {},
   "source": [
    "## 1. Load data and show samples"
   ]
  },
  {
   "cell_type": "code",
   "execution_count": 1,
   "id": "0b90b1ef-ec01-4192-9c6e-4181226f02e8",
   "metadata": {
    "tags": []
   },
   "outputs": [
    {
     "name": "stderr",
     "output_type": "stream",
     "text": [
      "WARNING:apache_beam.options.pipeline_options:Discarding unparseable args: ['-f', '/home/jupyter/.local/share/jupyter/runtime/kernel-d7f6c3d5-b2de-482f-83b4-eacabde59828.json']\n"
     ]
    },
    {
     "name": "stdout",
     "output_type": "stream",
     "text": [
      "\n",
      "===== SAMPLE DATA =====\n",
      "[{'marketplace': 'US', 'customer_id': '31774188', 'review_id': 'R2S2R5AY1Q686F', 'product_id': '0060988649', 'product_parent': '696052457', 'product_title': 'Lost: A Novel', 'product_category': 'Books', 'star_rating': '1', 'helpful_votes': '9', 'total_votes': '12', 'vine': 'N', 'verified_purchase': 'N', 'review_headline': 'Lost my mind...literally!', 'review_body': \"I had never read any Gregory Maguire books before this one, but heard nothing but praise for them. I picked up Lost based on the blurb on the back and the creepy cover art. I have a moderate interest in the Jack the Ripper period and settled into this book preparing to be entertained and engrossed by a work of fiction that wove this time period with fairy tales and came out with a unique product.     All I can say is that I was horribly and woefully misled...the most interesting and enthralling paragraph in the book is that blurb on the backside. And, what's more, that is about as close as you get to actually reading anything seriously related to Jack the Ripper or Charles Dickens!!! I could not believe how disappointing this book is....in the beginning, I kept going because I thought Winnie would develop into a dynamic, interesting character that I would CARE about....not so.     Halfway through the book, I realised that I was duped - the book was spiraling out of control in a messy plot riddled with confusion and ridiculous characters - and I have a rule that I finish every single book I start no matter what, so imagine my sheer frustration at this point.  At the end, I decided that Winnie was schizophrenic and that Maguire's purpose in writing Lost was to let his readers feel what it must be like to be a schizophrenic oneself....broken with reality, unable to form meaningful relationships with characters, depressed mood and blunted ability to emote....summed up in one word, LOST.    I very rarely give books one star, but in this case, unfortunately one star is generous...I would have given none if I had the chance.\", 'review_date': '2004-12-05'}, {'marketplace': 'US', 'customer_id': '51386313', 'review_id': 'R38QJO4VT3GY0U', 'product_id': '0971717605', 'product_parent': '378778266', 'product_title': 'Lessons from Afghanistan', 'product_category': 'Books', 'star_rating': '5', 'helpful_votes': '2', 'total_votes': '2', 'vine': 'N', 'verified_purchase': 'N', 'review_headline': 'Everyone Should Read This', 'review_body': 'Three cheers for David Fleishhacker, a wonderful writer!  And, three cheers for the Peace Corps!  Far more than a collection of reminiscences, this little book contains the sort of philosophy, based on history and experience, that should be the underpinning of our foreign policy everywhere. I devoured it at one sitting and only wished he had written more.  Clear, funny, honest and tender, this book should be required reading for our entire State Department, the Military Establishment, the &quot;Lords of Poverty&quot; (international aid/relief organizations)and literally every American involved in overseas activity.  For that matter, it should be required reading in every high school and board room in the country.  Great stuff.', 'review_date': '2002-03-28'}]\n",
      "===== LOADING DATASET =====\n",
      "Dataset sample size: 3105520\n"
     ]
    }
   ],
   "source": [
    "# Import necessary libraries\n",
    "import apache_beam as beam\n",
    "from apache_beam.io import ReadFromText\n",
    "from apache_beam.options.pipeline_options import PipelineOptions, StandardOptions\n",
    "import os\n",
    "\n",
    "# Set GCP project and storage bucket variables\n",
    "PROJECT_ID = 'review-analysis-456008'\n",
    "BUCKET_NAME = 'review-data-yu'\n",
    "DATA_FILE = 'gs://review-data-yu/raw-data/amazon_reviews_us_Books_v1_02.tsv'\n",
    "\n",
    "# Define Beam pipeline options\n",
    "pipeline_options = PipelineOptions(\n",
    "    project=PROJECT_ID,\n",
    "    temp_location=f'gs://{BUCKET_NAME}/temp',\n",
    "    region='us-central1'\n",
    ")\n",
    "\n",
    "# Ensure we use DirectRunner\n",
    "pipeline_options.view_as(StandardOptions).runner = 'DirectRunner'\n",
    "\n",
    "\n",
    "# Simple TSV parsing function\n",
    "def parse_tsv(line):\n",
    "    # Simply split by tab character\n",
    "    elements = line.split('\\t')\n",
    "    if len(elements) != 15:\n",
    "        return None\n",
    "    \n",
    "    fields = [\n",
    "        'marketplace', 'customer_id', 'review_id', 'product_id', \n",
    "        'product_parent', 'product_title', 'product_category', \n",
    "        'star_rating', 'helpful_votes', 'total_votes', 'vine', \n",
    "        'verified_purchase', 'review_headline', 'review_body', 'review_date'\n",
    "    ]\n",
    "    \n",
    "    return dict(zip(fields, elements))\n",
    "\n",
    "# Execute initial EDA - data loading\n",
    "def run_data_loading_eda():\n",
    "    \"\"\"Perform data loading and basic information EDA\"\"\"\n",
    "    with beam.Pipeline(options=pipeline_options) as p:\n",
    "        # Read data\n",
    "        data = (\n",
    "            p \n",
    "            | 'ReadData' >> ReadFromText(DATA_FILE, skip_header_lines=1)\n",
    "            | 'ParseTSV' >> beam.Map(parse_tsv)\n",
    "            | 'FilterNone' >> beam.Filter(lambda x: x is not None)\n",
    "        )\n",
    "        \n",
    "        # Calculate dataset size\n",
    "        count = (\n",
    "            data\n",
    "            | 'Count' >> beam.combiners.Count.Globally()\n",
    "            | 'FormatCount' >> beam.Map(lambda count: f\"===== LOADING DATASET =====\\nDataset sample size: {count}\")\n",
    "            | 'PrintCount' >> beam.Map(print)\n",
    "        )\n",
    "        \n",
    "        # Get sample data\n",
    "        samples = (\n",
    "            data\n",
    "            | 'Sample' >> beam.combiners.Sample.FixedSizeGlobally(2)\n",
    "            | 'FormatSamples' >> beam.Map(lambda samples: f\"\\n===== SAMPLE DATA =====\\n{samples}\")\n",
    "            | 'PrintSamples' >> beam.Map(print)\n",
    "        )\n",
    "\n",
    "\n",
    "# Execute the EDA directly \n",
    "run_data_loading_eda()"
   ]
  },
  {
   "cell_type": "markdown",
   "id": "b0bb479d-d58b-41b3-8ab6-3f4d82ea7622",
   "metadata": {},
   "source": [
    "## 2. Rating Distribution Analysis"
   ]
  },
  {
   "cell_type": "code",
   "execution_count": 2,
   "id": "5169a7c3-3fe2-45d4-8cdf-ab503f397dfd",
   "metadata": {
    "tags": []
   },
   "outputs": [
    {
     "name": "stderr",
     "output_type": "stream",
     "text": [
      "WARNING:apache_beam.options.pipeline_options:Discarding unparseable args: ['-f', '/home/jupyter/.local/share/jupyter/runtime/kernel-d7f6c3d5-b2de-482f-83b4-eacabde59828.json']\n"
     ]
    },
    {
     "name": "stdout",
     "output_type": "stream",
     "text": [
      "\n",
      "===== RATING DISTRIBUTION =====\n",
      "star_rating    Count    Percentage\n",
      "--------------------------------\n",
      "     1         7591      7.591   %\n",
      "     2         5257      5.257   %\n",
      "     3         8050      8.050   %\n",
      "     4        19047      19.047  %\n",
      "     5        60055      60.055  %\n"
     ]
    }
   ],
   "source": [
    "# Import necessary libraries\n",
    "import apache_beam as beam\n",
    "from apache_beam.io import ReadFromText\n",
    "from apache_beam.options.pipeline_options import PipelineOptions, StandardOptions\n",
    "import os\n",
    "\n",
    "# Rating distribution EDA\n",
    "def run_rating_distribution_eda():\n",
    "    \"\"\"Perform rating distribution analysis with limited data\"\"\"\n",
    "    with beam.Pipeline(options=pipeline_options) as p:\n",
    "        # Read, parse, and limit data to 100,000 records\n",
    "        data = (\n",
    "            p \n",
    "            | 'ReadData' >> ReadFromText(DATA_FILE, skip_header_lines=1)\n",
    "            | 'Limit' >> beam.combiners.Sample.FixedSizeGlobally(100000)\n",
    "            | 'ParseTSV' >> beam.FlatMap(lambda lines: [parse_tsv(line) for line in lines if line])\n",
    "            | 'FilterNone' >> beam.Filter(lambda x: x is not None)\n",
    "        )\n",
    "        \n",
    "        # Extract star ratings and count each rating\n",
    "        rating_counts = (\n",
    "            data\n",
    "            | 'ExtractRating' >> beam.Map(lambda x: x['star_rating'])\n",
    "            | 'CountByValue' >> beam.combiners.Count.PerElement()\n",
    "        )\n",
    "        \n",
    "        # Format and display rating distribution\n",
    "        def format_output(element):\n",
    "            # element is a list of (rating, count) tuples\n",
    "            sorted_ratings = sorted(element, key=lambda x: x[0])\n",
    "            total_count = sum(count for _, count in sorted_ratings)\n",
    "            \n",
    "            print(\"\\n===== RATING DISTRIBUTION =====\")\n",
    "            print(\"star_rating    Count    Percentage\")\n",
    "            print(\"--------------------------------\")\n",
    "            \n",
    "            for rating, count in sorted_ratings:\n",
    "                percentage = (count / total_count) * 100\n",
    "                print(f\"{rating:^11}  {count:^8}  {percentage:^10.3f}%\")\n",
    "            \n",
    "            return element\n",
    "        \n",
    "        # Process the results\n",
    "        result = (\n",
    "            rating_counts\n",
    "            | 'GatherResults' >> beam.combiners.ToList()\n",
    "            | 'FormatAndPrint' >> beam.Map(format_output)\n",
    "        )\n",
    "        \n",
    "\n",
    "# Execute the rating distribution EDA\n",
    "run_rating_distribution_eda()"
   ]
  },
  {
   "cell_type": "markdown",
   "id": "b82e39f3-f52e-4dd1-93b7-ab65c11fdc81",
   "metadata": {},
   "source": [
    "## 3. User engagement Analysis"
   ]
  },
  {
   "cell_type": "code",
   "execution_count": 3,
   "id": "7d0a9036-98f9-4e1b-93b4-e9f20be6d791",
   "metadata": {},
   "outputs": [
    {
     "name": "stderr",
     "output_type": "stream",
     "text": [
      "WARNING:apache_beam.options.pipeline_options:Discarding unparseable args: ['-f', '/home/jupyter/.local/share/jupyter/runtime/kernel-d7f6c3d5-b2de-482f-83b4-eacabde59828.json']\n"
     ]
    },
    {
     "name": "stdout",
     "output_type": "stream",
     "text": [
      "\n",
      "===== USER ENGAGEMENT ANALYSIS =====\n",
      "Total Unique Customers: 82425\n",
      "Average Reviews per Customer: 1.21\n",
      "Max Reviews by a Single Customer: 660\n",
      "Customers with Multiple Reviews: 7192 (8.73%)\n"
     ]
    }
   ],
   "source": [
    "# User engagement analysis EDA\n",
    "def run_user_engagement_eda():\n",
    "    \"\"\"Perform user engagement analysis to understand customer review patterns\"\"\"\n",
    "    with beam.Pipeline(options=pipeline_options) as p:\n",
    "        # Read, parse, and limit data to 100,000 records\n",
    "        data = (\n",
    "            p \n",
    "            | 'ReadData' >> ReadFromText(DATA_FILE, skip_header_lines=1)\n",
    "            | 'Limit' >> beam.combiners.Sample.FixedSizeGlobally(100000)\n",
    "            | 'ParseTSV' >> beam.FlatMap(lambda lines: [parse_tsv(line) for line in lines if line])\n",
    "            | 'FilterNone' >> beam.Filter(lambda x: x is not None)\n",
    "        )\n",
    "        \n",
    "        # Extract customer IDs and count reviews per customer\n",
    "        customer_reviews = (\n",
    "            data\n",
    "            | 'ExtractCustomerId' >> beam.Map(lambda x: x['customer_id'])\n",
    "            | 'CountPerCustomer' >> beam.combiners.Count.PerElement()\n",
    "        )\n",
    "        \n",
    "        # Process and format user engagement metrics\n",
    "        def analyze_user_engagement(customer_counts):\n",
    "            # customer_counts is a list of (customer_id, review_count) tuples\n",
    "            total_unique_customers = len(customer_counts)\n",
    "            total_reviews = sum(count for _, count in customer_counts)  \n",
    "            avg_reviews_per_customer = total_reviews / total_unique_customers if total_unique_customers > 0 else 0\n",
    "            max_reviews = max(count for _, count in customer_counts) if customer_counts else 0  \n",
    "            \n",
    "            # Count customers with multiple reviews\n",
    "            customers_with_multiple = sum(1 for _, count in customer_counts if count > 1)  \n",
    "            multiple_reviews_percentage = (customers_with_multiple / total_unique_customers * 100) if total_unique_customers > 0 else 0\n",
    "            \n",
    "            # Print results\n",
    "            print(\"\\n===== USER ENGAGEMENT ANALYSIS =====\")\n",
    "            print(f\"Total Unique Customers: {total_unique_customers}\")\n",
    "            print(f\"Average Reviews per Customer: {avg_reviews_per_customer:.2f}\")\n",
    "            print(f\"Max Reviews by a Single Customer: {max_reviews}\")\n",
    "            print(f\"Customers with Multiple Reviews: {customers_with_multiple} ({multiple_reviews_percentage:.2f}%)\")\n",
    "            \n",
    "            return customer_counts\n",
    "        \n",
    "        # Process the results\n",
    "        result = (\n",
    "            customer_reviews\n",
    "            | 'GatherCustomerData' >> beam.combiners.ToList()\n",
    "            | 'AnalyzeUserEngagement' >> beam.Map(analyze_user_engagement)\n",
    "        )\n",
    "        \n",
    "\n",
    "# Execute the user engagement EDA\n",
    "run_user_engagement_eda()"
   ]
  },
  {
   "cell_type": "markdown",
   "id": "71a9be31-6e55-4c27-8feb-cb12c0d7e39a",
   "metadata": {},
   "source": [
    "## 4. Product Analysis"
   ]
  },
  {
   "cell_type": "code",
   "execution_count": 4,
   "id": "39082949-7ea1-4714-a75f-b0e92aef8501",
   "metadata": {
    "tags": []
   },
   "outputs": [
    {
     "name": "stderr",
     "output_type": "stream",
     "text": [
      "WARNING:apache_beam.options.pipeline_options:Discarding unparseable args: ['-f', '/home/jupyter/.local/share/jupyter/runtime/kernel-d7f6c3d5-b2de-482f-83b4-eacabde59828.json']\n"
     ]
    },
    {
     "name": "stdout",
     "output_type": "stream",
     "text": [
      "\n",
      "===== PRODUCT ANALYSIS =====\n",
      "Total Unique Products: 74348\n",
      "Average Reviews per Product: 1.35\n",
      "Max Reviews for a Single Product: 157\n",
      "Products with Multiple Reviews: 12008 (16.15%)\n"
     ]
    }
   ],
   "source": [
    "# Product analysis EDA\n",
    "def run_product_analysis_eda():\n",
    "    \"\"\"Perform product analysis to understand book review patterns\"\"\"\n",
    "    with beam.Pipeline(options=pipeline_options) as p:\n",
    "        # Read, parse, and limit data to 100,000 records\n",
    "        data = (\n",
    "            p \n",
    "            | 'ReadData' >> ReadFromText(DATA_FILE, skip_header_lines=1)\n",
    "            | 'Limit' >> beam.combiners.Sample.FixedSizeGlobally(100000)\n",
    "            | 'ParseTSV' >> beam.FlatMap(lambda lines: [parse_tsv(line) for line in lines if line])\n",
    "            | 'FilterNone' >> beam.Filter(lambda x: x is not None)\n",
    "        )\n",
    "        \n",
    "        # Extract product IDs and count reviews per product\n",
    "        product_reviews = (\n",
    "            data\n",
    "            | 'ExtractProductId' >> beam.Map(lambda x: x['product_id'])\n",
    "            | 'CountPerProduct' >> beam.combiners.Count.PerElement()\n",
    "        )\n",
    "        \n",
    "        # Process and format product analysis metrics\n",
    "        def analyze_product_data(product_counts):\n",
    "            # product_counts is a list of (product_id, review_count) tuples\n",
    "            total_unique_products = len(product_counts)\n",
    "            total_reviews = sum(count for _, count in product_counts)\n",
    "            avg_reviews_per_product = total_reviews / total_unique_products if total_unique_products > 0 else 0\n",
    "            max_reviews = max(count for _, count in product_counts) if product_counts else 0\n",
    "            \n",
    "            # Count products with multiple reviews\n",
    "            products_with_multiple = sum(1 for _, count in product_counts if count > 1)\n",
    "            multiple_reviews_percentage = (products_with_multiple / total_unique_products * 100) if total_unique_products > 0 else 0\n",
    "            \n",
    "            # Print results\n",
    "            print(\"\\n===== PRODUCT ANALYSIS =====\")\n",
    "            print(f\"Total Unique Products: {total_unique_products}\")\n",
    "            print(f\"Average Reviews per Product: {avg_reviews_per_product:.2f}\")\n",
    "            print(f\"Max Reviews for a Single Product: {max_reviews}\")\n",
    "            print(f\"Products with Multiple Reviews: {products_with_multiple} ({multiple_reviews_percentage:.2f}%)\")\n",
    "            \n",
    "            return product_counts\n",
    "        \n",
    "        # Process the results\n",
    "        result = (\n",
    "            product_reviews\n",
    "            | 'GatherProductData' >> beam.combiners.ToList()\n",
    "            | 'AnalyzeProductData' >> beam.Map(analyze_product_data)\n",
    "        )\n",
    "        \n",
    "\n",
    "# Execute the product analysis EDA\n",
    "run_product_analysis_eda()"
   ]
  }
 ],
 "metadata": {
  "kernelspec": {
   "display_name": "Apache Beam 2.63.0 (Local)",
   "language": "python",
   "name": "apache-beam-2.63.0"
  },
  "language_info": {
   "codemirror_mode": {
    "name": "ipython",
    "version": 3
   },
   "file_extension": ".py",
   "mimetype": "text/x-python",
   "name": "python",
   "nbconvert_exporter": "python",
   "pygments_lexer": "ipython3",
   "version": "3.10.17"
  }
 },
 "nbformat": 4,
 "nbformat_minor": 5
}
